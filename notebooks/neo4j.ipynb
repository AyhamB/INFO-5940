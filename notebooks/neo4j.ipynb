{
 "cells": [
  {
   "cell_type": "code",
   "execution_count": null,
   "metadata": {},
   "outputs": [],
   "source": [
    "from neo4j import GraphDatabase\n",
    "\n",
    "uri = \"bolt://neo4j:7687\"  # Use 'neo4j' if running from devcontainer, 'localhost' if from host\n",
    "driver = GraphDatabase.driver(uri, auth=(\"neo4j\", \"your_password\"))\n",
    "\n",
    "def print_movie_titles():\n",
    "    with driver.session() as session:\n",
    "        result = session.run(\"MATCH (m:Movie) RETURN m.title AS title LIMIT 10\")\n",
    "        for record in result:\n",
    "            print(record[\"title\"])\n",
    "\n",
    "print_movie_titles()"
   ]
  },
  {
   "cell_type": "code",
   "execution_count": null,
   "metadata": {},
   "outputs": [],
   "source": [
    "def print_labels():\n",
    "    with driver.session() as session:\n",
    "        result = session.run(\"CALL db.labels()\")\n",
    "        for record in result:\n",
    "            print(record[\"label\"])\n",
    "\n",
    "\n",
    "print_labels()\n"
   ]
  },
  {
   "cell_type": "code",
   "execution_count": null,
   "metadata": {},
   "outputs": [],
   "source": []
  }
 ],
 "metadata": {
  "kernelspec": {
   "display_name": "Python 3",
   "language": "python",
   "name": "python3"
  },
  "language_info": {
   "codemirror_mode": {
    "name": "ipython",
    "version": 3
   },
   "file_extension": ".py",
   "mimetype": "text/x-python",
   "name": "python",
   "nbconvert_exporter": "python",
   "pygments_lexer": "ipython3",
   "version": "3.11.10"
  }
 },
 "nbformat": 4,
 "nbformat_minor": 2
}

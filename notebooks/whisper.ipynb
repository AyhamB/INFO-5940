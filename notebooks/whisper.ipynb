{
 "cells": [
  {
   "cell_type": "code",
   "execution_count": null,
   "metadata": {},
   "outputs": [],
   "source": [
    "import os\n",
    "from pydub import AudioSegment\n",
    "import markdown"
   ]
  },
  {
   "cell_type": "code",
   "execution_count": null,
   "metadata": {},
   "outputs": [],
   "source": [
    "def split_mp3(input_file, output_folder, segment_length=10):\n",
    "    # Load the MP3 file\n",
    "    audio = AudioSegment.from_mp3(input_file)\n",
    "\n",
    "    # Get the total duration of the audio in milliseconds\n",
    "    total_duration = len(audio)\n",
    "\n",
    "    # Calculate the segment length in milliseconds\n",
    "    segment_length_ms = segment_length * 60 * 1000\n",
    "\n",
    "    # Create the output folder if it doesn't exist\n",
    "    os.makedirs(output_folder, exist_ok=True)\n",
    "\n",
    "    # Split the audio into segments\n",
    "    for i, start in enumerate(range(0, total_duration, segment_length_ms)):\n",
    "        end = start + segment_length_ms\n",
    "        segment = audio[start:end]\n",
    "\n",
    "        # Generate the output file name\n",
    "        output_file = os.path.join(output_folder, f\"segment_{i+1}.mp3\")\n",
    "\n",
    "        # Export the segment as a new MP3 file\n",
    "        segment.export(output_file, format=\"mp3\")\n",
    "\n",
    "        print(f\"Segment {i+1} saved: {output_file}\")"
   ]
  },
  {
   "cell_type": "code",
   "execution_count": null,
   "metadata": {},
   "outputs": [],
   "source": [
    "input_file = \"/workspace/data/lecture-06.mp3\"\n",
    "output_folder = \"/workspace/data/segments\"\n",
    "\n",
    "split_mp3(input_file, output_folder)"
   ]
  },
  {
   "cell_type": "code",
   "execution_count": null,
   "metadata": {},
   "outputs": [],
   "source": [
    "from openai import OpenAI\n",
    "import os"
   ]
  },
  {
   "cell_type": "code",
   "execution_count": null,
   "metadata": {},
   "outputs": [],
   "source": [
    "client = OpenAI(api_key=os.getenv(\"OPENAI_API_KEY\"))"
   ]
  },
  {
   "cell_type": "code",
   "execution_count": null,
   "metadata": {},
   "outputs": [],
   "source": [
    "def transcribe_audio(audio_file_path, output_file_path):\n",
    "    try:\n",
    "        # Open the audio file\n",
    "        with open(audio_file_path, \"rb\") as audio_file:\n",
    "            # Call the Whisper API\n",
    "            transcription = client.audio.transcriptions.create(\n",
    "                model=\"whisper-1\",\n",
    "                file=audio_file\n",
    "            )\n",
    "\n",
    "        # Extract the transcribed text\n",
    "        transcribed_text = transcription.text\n",
    "\n",
    "        # Save the transcript to a file\n",
    "        with open(output_file_path, \"w\", encoding=\"utf-8\") as output_file:\n",
    "            output_file.write(transcribed_text)\n",
    "\n",
    "        print(f\"Transcription saved to {output_file_path}\")\n",
    "\n",
    "    except Exception as e:\n",
    "        print(f\"An error occurred: {str(e)}\")"
   ]
  },
  {
   "cell_type": "code",
   "execution_count": null,
   "metadata": {},
   "outputs": [],
   "source": [
    "transcribe_path = \"/workspace/data/transcribes\"\n",
    "segments_path = \"/workspace/data/segments\"\n",
    "\n",
    "os.makedirs(transcribe_path, exist_ok=True)\n",
    "\n",
    "for file in os.listdir(segments_path):\n",
    "    if file.endswith(\".mp3\"):\n",
    "        audio_file_path = os.path.join(segments_path, file)\n",
    "        output_file_path = os.path.join(transcribe_path, file.replace(\".mp3\", \".txt\"))\n",
    "\n",
    "    transcribe_audio(audio_file_path, output_file_path)"
   ]
  },
  {
   "cell_type": "code",
   "execution_count": null,
   "metadata": {},
   "outputs": [],
   "source": [
    "# List to store the content of all files\n",
    "all_content = []\n",
    "\n",
    "# Loop through all files in the directory\n",
    "# get the number of segments\n",
    "segments_count = len([name for name in os.listdir(transcribe_path) if name.endswith(\".txt\")])\n",
    "for i in range(1, segments_count + 1):  # Assuming files are numbered 1 through 8\n",
    "    filename = f\"segment_{i}.txt\"\n",
    "    file_path = os.path.join(transcribe_path, filename)\n",
    "    \n",
    "    # Check if file exists\n",
    "    if os.path.exists(file_path):\n",
    "        with open(file_path, 'r') as file:\n",
    "            content = file.read()\n",
    "            all_content.append(content)\n",
    "    else:\n",
    "        print(f\"File {filename} not found.\")\n",
    "\n",
    "# Join all content into a single string\n",
    "combined_content = \"\\n\".join(all_content)\n"
   ]
  },
  {
   "cell_type": "code",
   "execution_count": null,
   "metadata": {},
   "outputs": [],
   "source": [
    "len(combined_content)"
   ]
  },
  {
   "cell_type": "code",
   "execution_count": null,
   "metadata": {},
   "outputs": [],
   "source": [
    "\n",
    "# Function to generate lecture notes using GPT-4\n",
    "def generate_lecture_notes(content):\n",
    "    try:\n",
    "        response = client.chat.completions.create(\n",
    "            model=\"gpt-4o\",\n",
    "            messages=[\n",
    "                {\"role\": \"system\", \"content\": \"You are a helpful assistant that generates very well structured lecture notes from transcripts.\"},\n",
    "                {\"role\": \"user\", \"content\": f\"\"\"Please generate comprehensive lecture notes from the following transcript:\n",
    "\n",
    "                {content}\n",
    "\n",
    "                In creating these notes, please incorporate the following advanced teaching and learning techniques:\n",
    "\n",
    "                1. Organize the content using a clear hierarchical structure (main topics, subtopics, key points).\n",
    "                2. Include a brief summary or learning objectives at the beginning.\n",
    "                3. Use bullet points and numbered lists for easy readability and retention.\n",
    "                4. Incorporate visual elements where appropriate (e.g., diagrams, charts, or mind maps).\n",
    "                5. Highlight key terms, definitions, and important concepts.\n",
    "                6. Add relevant examples and real-world applications to illustrate complex ideas.\n",
    "                7. Include thought-provoking questions or discussion points to encourage critical thinking.\n",
    "                8. Provide analogies or metaphors to explain difficult concepts.\n",
    "                9. Insert brief \"check your understanding\" sections with sample questions or problems.\n",
    "                10. Include mnemonics or memory aids where applicable.\n",
    "                11. Add cross-references to related topics or previous lectures if relevant.\n",
    "                12. Conclude with a summary of main takeaways and potential areas for further exploration.\n",
    "\n",
    "                Feel free to expand on the given content by adding relevant background information, filling in any gaps to ensure completeness, and enriching the material with additional examples or explanations. The goal is to create comprehensive, engaging, and effective lecture notes that facilitate deep understanding and retention of the subject matter. Add at least 5 references for relative materials for readings\"\"\"}\n",
    "            ],\n",
    "        )\n",
    "        return response.choices[0].message.content\n",
    "    except Exception as e:\n",
    "        print(f\"An error occurred: {e}\")\n",
    "        return None\n",
    "\n",
    "# Generate lecture notes\n",
    "lecture_notes = generate_lecture_notes(combined_content)\n",
    "\n",
    "if lecture_notes:\n",
    "    print(\"Lecture Notes:\")\n",
    "    print(lecture_notes)\n",
    "\n",
    "    # also generate html\n",
    "    html = markdown.markdown(lecture_notes)\n",
    "    \n",
    "    # ave the lecture notes to a file\n",
    "    with open(\"/workspace/data/lecture_notes.txt\", \"w\") as file:\n",
    "        file.write(lecture_notes)\n",
    "    with open(\"/workspace/data/lecture_notes.html\", \"w\") as file:\n",
    "        file.write(html)\n",
    "    print(\"Lecture notes saved to /workspace/data/lecture_notes.txt\")\n",
    "else:\n",
    "    print(\"Failed to generate lecture notes.\")"
   ]
  },
  {
   "cell_type": "code",
   "execution_count": null,
   "metadata": {},
   "outputs": [],
   "source": [
    "\n",
    "# Function to generate lecture notes using GPT-4\n",
    "def generate_lecture_notes_simple(content):\n",
    "    try:\n",
    "        response = client.chat.completions.create(\n",
    "            model=\"gpt-4o\",\n",
    "            messages=[\n",
    "                {\"role\": \"system\", \"content\": \"You are a helpful assistant that generates very well structured lecture notes from transcripts.\"},\n",
    "                {\"role\": \"user\", \"content\": f\"Please generate detailed lecture notes from the following transcript:{content}\"}\n",
    "            ],\n",
    "        )\n",
    "        return response.choices[0].message.content\n",
    "    except Exception as e:\n",
    "        print(f\"An error occurred: {e}\")\n",
    "        return None\n",
    "\n",
    "# Generate lecture notes\n",
    "lecture_notes_simple = generate_lecture_notes_simple(combined_content)\n",
    "\n",
    "if lecture_notes_simple:\n",
    "    # also generate html\n",
    "    html_simple = markdown.markdown(lecture_notes_simple)\n",
    "    \n",
    "    # ave the lecture notes to a file\n",
    "    with open(\"/workspace/data/lecture_notes_simple.txt\", \"w\") as file:\n",
    "        file.write(lecture_notes_simple)\n",
    "    with open(\"/workspace/data/lecture_notes_simple.html\", \"w\") as file:\n",
    "        file.write(html_simple)\n",
    "    print(\"Lecture notes saved to /workspace/data/lecture_notes.txt\")\n",
    "else:\n",
    "    print(\"Failed to generate lecture notes.\")"
   ]
  },
  {
   "cell_type": "code",
   "execution_count": null,
   "metadata": {},
   "outputs": [],
   "source": []
  }
 ],
 "metadata": {
  "kernelspec": {
   "display_name": "Python 3",
   "language": "python",
   "name": "python3"
  },
  "language_info": {
   "codemirror_mode": {
    "name": "ipython",
    "version": 3
   },
   "file_extension": ".py",
   "mimetype": "text/x-python",
   "name": "python",
   "nbconvert_exporter": "python",
   "pygments_lexer": "ipython3",
   "version": "3.11.10"
  }
 },
 "nbformat": 4,
 "nbformat_minor": 2
}
